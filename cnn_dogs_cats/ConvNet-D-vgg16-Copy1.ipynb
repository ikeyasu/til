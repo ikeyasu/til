{
 "cells": [
  {
   "cell_type": "code",
   "execution_count": 1,
   "metadata": {
    "collapsed": false
   },
   "outputs": [
    {
     "name": "stderr",
     "output_type": "stream",
     "text": [
      "Using TensorFlow backend.\n"
     ]
    }
   ],
   "source": [
    "import numpy as np\n",
    "import matplotlib.pyplot as plt\n",
    "%matplotlib inline\n",
    "from keras.utils import np_utils\n",
    "from keras.preprocessing.image import ImageDataGenerator\n",
    "from keras.models import Sequential\n",
    "from keras.layers import Dense, Dropout, Activation, Flatten\n",
    "from keras.layers import Convolution2D, MaxPooling2D, AveragePooling2D\n",
    "from keras.optimizers import Adam\n",
    "import glob\n",
    "from PIL import Image\n",
    "\n",
    "import keras\n",
    "from keras.preprocessing.image import ImageDataGenerator\n",
    "from keras.models import Sequential\n",
    "from keras.layers import Dense, Dropout, Activation, Flatten\n",
    "from keras.layers import Conv2D, MaxPooling2D\n",
    "from keras.utils import np_utils\n",
    "from keras.layers.core import Flatten, Dense, Dropout, Lambda\n"
   ]
  },
  {
   "cell_type": "code",
   "execution_count": null,
   "metadata": {
    "collapsed": false
   },
   "outputs": [],
   "source": []
  },
  {
   "cell_type": "code",
   "execution_count": 2,
   "metadata": {
    "collapsed": true
   },
   "outputs": [],
   "source": [
    "def plots(ims, figsize=(12,6), rows=1, interp=False, titles=None):\n",
    "    if type(ims[0]) is np.ndarray:\n",
    "        ims = np.array(ims).astype(np.uint8)\n",
    "        if (ims.shape[-1] != 3):\n",
    "            ims = ims.transpose((0,2,3,1))\n",
    "    f = plt.figure(figsize=figsize)\n",
    "    for i in range(len(ims)):\n",
    "        sp = f.add_subplot(rows, len(ims)//rows, i+1)\n",
    "        sp.axis('Off')\n",
    "        if titles is not None:\n",
    "            sp.set_title(titles[i], fontsize=16)\n",
    "        plt.imshow(ims[i], interpolation=None if interp else 'none')"
   ]
  },
  {
   "cell_type": "code",
   "execution_count": 3,
   "metadata": {
    "collapsed": false
   },
   "outputs": [
    {
     "name": "stdout",
     "output_type": "stream",
     "text": [
      "Found 2000 images belonging to 2 classes.\n",
      "Found 2000 images belonging to 2 classes.\n",
      "Found 2000 images belonging to 2 classes.\n",
      "Found 25000 images belonging to 2 classes.\n"
     ]
    }
   ],
   "source": [
    "from keras.preprocessing import image\n",
    "\n",
    "BATCH_SIZE = 64\n",
    "PATH=\"data/\"\n",
    "\n",
    "def get_fit_sample():\n",
    "    gen = image.ImageDataGenerator()\n",
    "    sample_batches = gen.flow_from_directory(PATH+'valid', target_size=(224,224), \n",
    "            class_mode='categorical', shuffle=False, batch_size=300)\n",
    "    imgs, labels = next(sample_batches)\n",
    "    return imgs\n",
    "\n",
    "gen = image.ImageDataGenerator(featurewise_std_normalization=True)\n",
    "gen.fit(get_fit_sample())\n",
    "val_batches = gen.flow_from_directory(PATH+'valid', target_size=(224,224), \n",
    "            class_mode='categorical', shuffle=True, batch_size=BATCH_SIZE)\n",
    "\n",
    "gen = image.ImageDataGenerator(featurewise_std_normalization=True)\n",
    "gen.fit(get_fit_sample())\n",
    "batches = gen.flow_from_directory(PATH+'train', target_size=(224,224), \n",
    "            class_mode='categorical', shuffle=True, batch_size=BATCH_SIZE)\n",
    "\n",
    "#imgs,labels = next(batches)\n",
    "#plots(imgs[:2])\n"
   ]
  },
  {
   "cell_type": "code",
   "execution_count": null,
   "metadata": {
    "collapsed": false
   },
   "outputs": [],
   "source": []
  },
  {
   "cell_type": "code",
   "execution_count": 4,
   "metadata": {
    "collapsed": false
   },
   "outputs": [],
   "source": [
    "\n",
    "\n",
    "CLASSES = 2\n",
    "INPUT_SHAPE = (224,224,3)\n",
    "model = Sequential()\n",
    "    \n",
    "# Block 1\n",
    "model.add(Conv2D(64, (3, 3), activation='relu', padding='same', name='block1_conv1', input_shape=INPUT_SHAPE))\n",
    "model.add(Conv2D(64, (3, 3), activation='relu', padding='same', name='block1_conv2'))\n",
    "model.add(MaxPooling2D((2, 2), strides=(2, 2), name='block1_pool'))\n",
    "\n",
    "# Block 2\n",
    "model.add(Conv2D(128, (3, 3), activation='relu', padding='same', name='block2_conv1'))\n",
    "model.add(Conv2D(128, (3, 3), activation='relu', padding='same', name='block2_conv2'))\n",
    "model.add(MaxPooling2D((2, 2), strides=(2, 2), name='block2_pool'))\n",
    "\n",
    "# Block 3\n",
    "model.add(Conv2D(256, (3, 3), activation='relu', padding='same', name='block3_conv1'))\n",
    "model.add(Conv2D(256, (3, 3), activation='relu', padding='same', name='block3_conv2'))\n",
    "model.add(Conv2D(256, (3, 3), activation='relu', padding='same', name='block3_conv3'))\n",
    "model.add(MaxPooling2D((2, 2), strides=(2, 2), name='block3_pool'))\n",
    "\n",
    "# Block 4\n",
    "model.add(Conv2D(512, (3, 3), activation='relu', padding='same', name='block4_conv1'))\n",
    "model.add(Conv2D(512, (3, 3), activation='relu', padding='same', name='block4_conv2'))\n",
    "model.add(Conv2D(512, (3, 3), activation='relu', padding='same', name='block4_conv3'))\n",
    "model.add(MaxPooling2D((2, 2), strides=(2, 2), name='block4_pool'))\n",
    "\n",
    "# Block 5\n",
    "model.add(Conv2D(512, (3, 3), activation='relu', padding='same', name='block5_conv1'))\n",
    "model.add(Conv2D(512, (3, 3), activation='relu', padding='same', name='block5_conv2'))\n",
    "model.add(Conv2D(512, (3, 3), activation='relu', padding='same', name='block5_conv3'))\n",
    "model.add(MaxPooling2D((2, 2), strides=(2, 2), name='block5_pool'))\n",
    "\n",
    "# Classification block\n",
    "model.add(Flatten(name='flatten'))\n",
    "model.add(Dense(4096, activation='relu', name='fc1'))\n",
    "model.add(Dropout(0.5))\n",
    "model.add(Dense(4096, activation='relu', name='fc2'))\n",
    "model.add(Dropout(0.5))\n",
    "model.add(Dense(CLASSES, activation='softmax', name='predictions'))\n",
    "\n",
    "from keras.optimizers import SGD\n",
    "sgd = SGD(lr=0.01, decay=0.0005, momentum=0.9, nesterov=False)\n",
    "\n",
    "\n",
    "model.compile(optimizer=sgd, loss='mean_squared_error', metrics=['accuracy'])"
   ]
  },
  {
   "cell_type": "code",
   "execution_count": 5,
   "metadata": {
    "collapsed": false
   },
   "outputs": [
    {
     "name": "stdout",
     "output_type": "stream",
     "text": [
      "Epoch 1/10\n",
      "100/100 [==============================] - 113s - loss: 0.2500 - acc: 0.5031 - val_loss: 0.2493 - val_acc: 0.5859\n",
      "Epoch 2/10\n",
      "100/100 [==============================] - 109s - loss: 0.2495 - acc: 0.5177 - val_loss: 0.2483 - val_acc: 0.5188\n",
      "Epoch 3/10\n",
      "100/100 [==============================] - 110s - loss: 0.2478 - acc: 0.5342 - val_loss: 0.2450 - val_acc: 0.5734\n",
      "Epoch 4/10\n",
      "100/100 [==============================] - 112s - loss: 0.2482 - acc: 0.5367 - val_loss: 0.2519 - val_acc: 0.4814\n",
      "Epoch 5/10\n",
      "100/100 [==============================] - 109s - loss: 0.2500 - acc: 0.5086 - val_loss: 0.2514 - val_acc: 0.4813\n",
      "Epoch 6/10\n",
      "100/100 [==============================] - 110s - loss: 0.2493 - acc: 0.5264 - val_loss: 0.2495 - val_acc: 0.4656\n",
      "Epoch 7/10\n",
      "100/100 [==============================] - 109s - loss: 0.2419 - acc: 0.5725 - val_loss: 0.2366 - val_acc: 0.6014\n",
      "Epoch 8/10\n",
      "100/100 [==============================] - 109s - loss: 0.2352 - acc: 0.5896 - val_loss: 0.2281 - val_acc: 0.6234\n",
      "Epoch 9/10\n",
      "100/100 [==============================] - 110s - loss: 0.2265 - acc: 0.6156 - val_loss: 0.2127 - val_acc: 0.6578\n",
      "Epoch 10/10\n",
      "100/100 [==============================] - 110s - loss: 0.2210 - acc: 0.6273 - val_loss: 0.2239 - val_acc: 0.6250\n"
     ]
    },
    {
     "data": {
      "image/png": "[encoded data removed]",
      "text/plain": [
       "<matplotlib.figure.Figure at 0x7f5d08e6af98>"
      ]
     },
     "metadata": {},
     "output_type": "display_data"
    },
    {
     "name": "stdout",
     "output_type": "stream",
     "text": [
      "CPU times: user 12min 58s, sys: 2min 10s, total: 15min 8s\n",
      "Wall time: 18min 27s\n"
     ]
    }
   ],
   "source": [
    "%%time\n",
    "hist = model.fit_generator(batches,  steps_per_epoch=100, epochs=10, validation_data=val_batches, validation_steps=10)\n",
    " \n",
    "model.save('ConvNet-D-vgg16.h5')\n",
    "\n",
    "# http://qiita.com/TypeNULL/items/4e4d7de11ab4361d6085\n",
    "loss = hist.history['loss']\n",
    "val_loss = hist.history['val_loss']\n",
    "nb_epoch = len(loss)\n",
    "plt.plot(range(nb_epoch), loss, marker='.', label='loss')\n",
    "plt.plot(range(nb_epoch), val_loss, marker='.', label='val_loss')\n",
    "plt.legend(loc='best', fontsize=10)\n",
    "plt.grid()\n",
    "plt.xlabel('epoch')\n",
    "plt.ylabel('loss')\n",
    "plt.show()"
   ]
  },
  {
   "cell_type": "markdown",
   "metadata": {
    "collapsed": false
   },
   "source": [
    "https://gist.github.com/baraldilorenzo/07d7802847aaad0a35d3"
   ]
  },
  {
   "cell_type": "code",
   "execution_count": null,
   "metadata": {
    "collapsed": true
   },
   "outputs": [],
   "source": []
  }
 ],
 "metadata": {
  "anaconda-cloud": {},
  "kernelspec": {
   "display_name": "Python [conda root]",
   "language": "python",
   "name": "conda-root-py"
  },
  "language_info": {
   "codemirror_mode": {
    "name": "ipython",
    "version": 3
   },
   "file_extension": ".py",
   "mimetype": "text/x-python",
   "name": "python",
   "nbconvert_exporter": "python",
   "pygments_lexer": "ipython3",
   "version": "3.5.2"
  }
 },
 "nbformat": 4,
 "nbformat_minor": 1
}
