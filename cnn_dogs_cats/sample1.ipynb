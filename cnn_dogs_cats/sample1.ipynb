{
 "cells": [
  {
   "cell_type": "markdown",
   "metadata": {},
   "source": [
    "http://qiita.com/cvusk/items/aa6270301ff2d14fb989"
   ]
  },
  {
   "cell_type": "code",
   "execution_count": 1,
   "metadata": {
    "collapsed": false
   },
   "outputs": [
    {
     "name": "stderr",
     "output_type": "stream",
     "text": [
      "Using TensorFlow backend.\n"
     ]
    }
   ],
   "source": [
    "# coding: utf-8\n",
    "\n",
    "import keras\n",
    "from keras.datasets import cifar10\n",
    "from keras.preprocessing.image import ImageDataGenerator\n",
    "from keras.models import Sequential\n",
    "from keras.layers import Dense, Dropout, Activation, Flatten\n",
    "from keras.layers import Conv2D, MaxPooling2D\n",
    "from keras.utils import np_utils\n",
    "\n",
    "\n",
    "import matplotlib.pyplot as plt\n",
    "%matplotlib inline\n",
    "def plots(ims, figsize=(12,6), rows=1, interp=False, titles=None):\n",
    "    if type(ims[0]) is np.ndarray:\n",
    "        ims = np.array(ims).astype(np.uint8)\n",
    "        if (ims.shape[-1] != 3):\n",
    "            ims = ims.transpose((0,2,3,1))\n",
    "    f = plt.figure(figsize=figsize)\n",
    "    for i in range(len(ims)):\n",
    "        sp = f.add_subplot(rows, len(ims)//rows, i+1)\n",
    "        sp.axis('Off')\n",
    "        if titles is not None:\n",
    "            sp.set_title(titles[i], fontsize=16)\n",
    "        plt.imshow(ims[i], interpolation=None if interp else 'none')\n",
    "\n",
    "\n"
   ]
  },
  {
   "cell_type": "code",
   "execution_count": 2,
   "metadata": {
    "collapsed": false
   },
   "outputs": [
    {
     "name": "stdout",
     "output_type": "stream",
     "text": [
      "Found 2000 images belonging to 2 classes.\n",
      "Found 2000 images belonging to 2 classes.\n",
      "Found 2000 images belonging to 2 classes.\n",
      "Found 16997 images belonging to 2 classes.\n"
     ]
    }
   ],
   "source": [
    "from keras.preprocessing import image\n",
    "\n",
    "BATCH_SIZE = 4\n",
    "PATH=\"data/\"\n",
    "\n",
    "def get_fit_sample():\n",
    "    gen = image.ImageDataGenerator()\n",
    "    sample_batches = gen.flow_from_directory(PATH+'valid', target_size=(32,32), \n",
    "            class_mode='categorical', shuffle=False, batch_size=300)\n",
    "    imgs, labels = next(sample_batches)\n",
    "    return imgs\n",
    "\n",
    "gen = image.ImageDataGenerator(featurewise_std_normalization=True)\n",
    "gen.fit(get_fit_sample())\n",
    "val_batches = gen.flow_from_directory(PATH+'valid', target_size=(32,32), \n",
    "            class_mode='categorical', shuffle=True, batch_size=BATCH_SIZE)\n",
    "\n",
    "gen = image.ImageDataGenerator(featurewise_std_normalization=True)\n",
    "gen.fit(get_fit_sample())\n",
    "batches = gen.flow_from_directory(PATH+'train', target_size=(32,32), \n",
    "            class_mode='categorical', shuffle=True, batch_size=BATCH_SIZE)\n",
    "\n",
    "#x , y = next(batches)\n",
    "#plots(x)"
   ]
  },
  {
   "cell_type": "code",
   "execution_count": 24,
   "metadata": {
    "collapsed": false
   },
   "outputs": [],
   "source": [
    "\n"
   ]
  },
  {
   "cell_type": "code",
   "execution_count": 3,
   "metadata": {
    "collapsed": false
   },
   "outputs": [],
   "source": [
    "model = Sequential()\n",
    "\n",
    "model.add(Conv2D(32, (3, 3), padding=\"same\", input_shape=(32, 32, 3)))\n",
    "model.add(Activation('relu'))\n",
    "model.add(Conv2D(32, (3, 3)))\n",
    "model.add(Activation('relu'))\n",
    "model.add(MaxPooling2D(pool_size=(2, 2)))\n",
    "model.add(Dropout(0.25))\n",
    "\n",
    "model.add(Conv2D(64, (3, 3), padding='same'))\n",
    "model.add(Activation('relu'))\n",
    "model.add(Conv2D(64, (3, 3)))\n",
    "model.add(Activation('relu'))\n",
    "model.add(MaxPooling2D(pool_size=(2, 2)))\n",
    "model.add(Dropout(0.25))\n",
    "\n",
    "model.add(Flatten())\n",
    "model.add(Dense(512))\n",
    "model.add(Activation('relu'))\n",
    "model.add(Dropout(0.5))\n",
    "\n",
    "model.add(Dense(2))\n",
    "model.add(Activation('softmax'))\n",
    "\n",
    "model.compile(loss='categorical_crossentropy', optimizer='adam', metrics=['accuracy'])\n",
    "\n"
   ]
  },
  {
   "cell_type": "code",
   "execution_count": 4,
   "metadata": {
    "collapsed": false
   },
   "outputs": [
    {
     "name": "stdout",
     "output_type": "stream",
     "text": [
      "_________________________________________________________________\n",
      "Layer (type)                 Output Shape              Param #   \n",
      "=================================================================\n",
      "conv2d_1 (Conv2D)            (None, 32, 32, 32)        896       \n",
      "_________________________________________________________________\n",
      "activation_1 (Activation)    (None, 32, 32, 32)        0         \n",
      "_________________________________________________________________\n",
      "conv2d_2 (Conv2D)            (None, 30, 30, 32)        9248      \n",
      "_________________________________________________________________\n",
      "activation_2 (Activation)    (None, 30, 30, 32)        0         \n",
      "_________________________________________________________________\n",
      "max_pooling2d_1 (MaxPooling2 (None, 15, 15, 32)        0         \n",
      "_________________________________________________________________\n",
      "dropout_1 (Dropout)          (None, 15, 15, 32)        0         \n",
      "_________________________________________________________________\n",
      "conv2d_3 (Conv2D)            (None, 15, 15, 64)        18496     \n",
      "_________________________________________________________________\n",
      "activation_3 (Activation)    (None, 15, 15, 64)        0         \n",
      "_________________________________________________________________\n",
      "conv2d_4 (Conv2D)            (None, 13, 13, 64)        36928     \n",
      "_________________________________________________________________\n",
      "activation_4 (Activation)    (None, 13, 13, 64)        0         \n",
      "_________________________________________________________________\n",
      "max_pooling2d_2 (MaxPooling2 (None, 6, 6, 64)          0         \n",
      "_________________________________________________________________\n",
      "dropout_2 (Dropout)          (None, 6, 6, 64)          0         \n",
      "_________________________________________________________________\n",
      "flatten_1 (Flatten)          (None, 2304)              0         \n",
      "_________________________________________________________________\n",
      "dense_1 (Dense)              (None, 512)               1180160   \n",
      "_________________________________________________________________\n",
      "activation_5 (Activation)    (None, 512)               0         \n",
      "_________________________________________________________________\n",
      "dropout_3 (Dropout)          (None, 512)               0         \n",
      "_________________________________________________________________\n",
      "dense_2 (Dense)              (None, 2)                 1026      \n",
      "_________________________________________________________________\n",
      "activation_6 (Activation)    (None, 2)                 0         \n",
      "=================================================================\n",
      "Total params: 1,246,754\n",
      "Trainable params: 1,246,754\n",
      "Non-trainable params: 0\n",
      "_________________________________________________________________\n"
     ]
    }
   ],
   "source": [
    "model.summary()\n"
   ]
  },
  {
   "cell_type": "code",
   "execution_count": 6,
   "metadata": {
    "collapsed": false
   },
   "outputs": [
    {
     "name": "stdout",
     "output_type": "stream",
     "text": [
      "Epoch 1/25\n",
      "1000/1000 [==============================] - 4s - loss: 0.6911 - acc: 0.5320 - val_loss: 0.6841 - val_acc: 0.5650\n",
      "Epoch 2/25\n",
      "1000/1000 [==============================] - 4s - loss: 0.6844 - acc: 0.5413 - val_loss: 0.6918 - val_acc: 0.5375\n",
      "Epoch 3/25\n",
      "1000/1000 [==============================] - 4s - loss: 0.6795 - acc: 0.5640 - val_loss: 0.6683 - val_acc: 0.6450\n",
      "Epoch 4/25\n",
      "1000/1000 [==============================] - 4s - loss: 0.6788 - acc: 0.5830 - val_loss: 0.6855 - val_acc: 0.5300\n",
      "Epoch 5/25\n",
      "1000/1000 [==============================] - 4s - loss: 0.6730 - acc: 0.5837 - val_loss: 0.6881 - val_acc: 0.5875\n",
      "Epoch 6/25\n",
      "1000/1000 [==============================] - 4s - loss: 0.6523 - acc: 0.6210 - val_loss: 0.6408 - val_acc: 0.6375\n",
      "Epoch 7/25\n",
      "1000/1000 [==============================] - 4s - loss: 0.6532 - acc: 0.6180 - val_loss: 0.6418 - val_acc: 0.6325\n",
      "Epoch 8/25\n",
      "1000/1000 [==============================] - 4s - loss: 0.6558 - acc: 0.6180 - val_loss: 0.6352 - val_acc: 0.6650\n",
      "Epoch 9/25\n",
      "1000/1000 [==============================] - 4s - loss: 0.6396 - acc: 0.6380 - val_loss: 0.6201 - val_acc: 0.6500\n",
      "Epoch 10/25\n",
      "1000/1000 [==============================] - 4s - loss: 0.6352 - acc: 0.6452 - val_loss: 0.6054 - val_acc: 0.6900\n",
      "Epoch 11/25\n",
      "1000/1000 [==============================] - 4s - loss: 0.6293 - acc: 0.6475 - val_loss: 0.6176 - val_acc: 0.6425\n",
      "Epoch 12/25\n",
      "1000/1000 [==============================] - 4s - loss: 0.6351 - acc: 0.6465 - val_loss: 0.5629 - val_acc: 0.7275\n",
      "Epoch 13/25\n",
      "1000/1000 [==============================] - 4s - loss: 0.6222 - acc: 0.6545 - val_loss: 0.5902 - val_acc: 0.6925\n",
      "Epoch 14/25\n",
      "1000/1000 [==============================] - 4s - loss: 0.6166 - acc: 0.6570 - val_loss: 0.5925 - val_acc: 0.6875\n",
      "Epoch 15/25\n",
      "1000/1000 [==============================] - 4s - loss: 0.6145 - acc: 0.6657 - val_loss: 0.5914 - val_acc: 0.6950\n",
      "Epoch 16/25\n",
      "1000/1000 [==============================] - 4s - loss: 0.6124 - acc: 0.6755 - val_loss: 0.5837 - val_acc: 0.6800\n",
      "Epoch 17/25\n",
      "1000/1000 [==============================] - 4s - loss: 0.5984 - acc: 0.6903 - val_loss: 0.5874 - val_acc: 0.7250\n",
      "Epoch 18/25\n",
      "1000/1000 [==============================] - 4s - loss: 0.5898 - acc: 0.6900 - val_loss: 0.5655 - val_acc: 0.7125\n",
      "Epoch 19/25\n",
      "1000/1000 [==============================] - 4s - loss: 0.6066 - acc: 0.6800 - val_loss: 0.6463 - val_acc: 0.6250\n",
      "Epoch 20/25\n",
      "1000/1000 [==============================] - 4s - loss: 0.5835 - acc: 0.6997 - val_loss: 0.5579 - val_acc: 0.7450\n",
      "Epoch 21/25\n",
      "1000/1000 [==============================] - 4s - loss: 0.5778 - acc: 0.6980 - val_loss: 0.5514 - val_acc: 0.7500\n",
      "Epoch 22/25\n",
      "1000/1000 [==============================] - 4s - loss: 0.5980 - acc: 0.6788 - val_loss: 0.5774 - val_acc: 0.7175\n",
      "Epoch 23/25\n",
      "1000/1000 [==============================] - 4s - loss: 0.5747 - acc: 0.7027 - val_loss: 0.5579 - val_acc: 0.7300\n",
      "Epoch 24/25\n",
      "1000/1000 [==============================] - 4s - loss: 0.5930 - acc: 0.6830 - val_loss: 0.5746 - val_acc: 0.7225\n",
      "Epoch 25/25\n",
      "1000/1000 [==============================] - 4s - loss: 0.5823 - acc: 0.7037 - val_loss: 0.5569 - val_acc: 0.7200\n",
      "CPU times: user 3min 58s, sys: 10 s, total: 4min 8s\n",
      "Wall time: 1min 56s\n"
     ]
    }
   ],
   "source": [
    "%%time\n",
    "h = model.fit_generator(batches,  steps_per_epoch=1000, epochs=25, validation_data=val_batches, validation_steps=100)            \n",
    "model.save('vgg16.h5')"
   ]
  },
  {
   "cell_type": "code",
   "execution_count": null,
   "metadata": {
    "collapsed": false
   },
   "outputs": [],
   "source": []
  },
  {
   "cell_type": "code",
   "execution_count": 5,
   "metadata": {
    "collapsed": false
   },
   "outputs": [
    {
     "name": "stdout",
     "output_type": "stream",
     "text": [
      " 9568/10000 [===========================>..] - ETA: 0sTest loss: 0.665917389059\n",
      "Test accuracy: 0.7927\n"
     ]
    }
   ],
   "source": [
    "score = model.evaluate(x_test, y_test)\n",
    "print('Test loss:', score[0])\n",
    "print('Test accuracy:', score[1])"
   ]
  },
  {
   "cell_type": "code",
   "execution_count": 8,
   "metadata": {
    "collapsed": false
   },
   "outputs": [
    {
     "data": {
      "image/png": "[encoded data removed]",
      "text/plain": [
       "<matplotlib.figure.Figure at 0x7f41b87056d8>"
      ]
     },
     "metadata": {},
     "output_type": "display_data"
    }
   ],
   "source": [
    "model.save('sample1.h5')\n",
    "# http://qiita.com/TypeNULL/items/4e4d7de11ab4361d6085\n",
    "loss = h.history['loss']\n",
    "val_loss = h.history['val_loss']\n",
    "nb_epoch = len(loss)\n",
    "plt.plot(range(nb_epoch), loss, marker='.', label='loss')\n",
    "plt.plot(range(nb_epoch), val_loss, marker='.', label='val_loss')\n",
    "plt.legend(loc='best', fontsize=10)\n",
    "plt.grid()\n",
    "plt.xlabel('epoch')\n",
    "plt.ylabel('loss')\n",
    "plt.show()"
   ]
  },
  {
   "cell_type": "code",
   "execution_count": null,
   "metadata": {
    "collapsed": true
   },
   "outputs": [],
   "source": []
  }
 ],
 "metadata": {
  "anaconda-cloud": {},
  "kernelspec": {
   "display_name": "Python [conda root]",
   "language": "python",
   "name": "conda-root-py"
  },
  "language_info": {
   "codemirror_mode": {
    "name": "ipython",
    "version": 3
   },
   "file_extension": ".py",
   "mimetype": "text/x-python",
   "name": "python",
   "nbconvert_exporter": "python",
   "pygments_lexer": "ipython3",
   "version": "3.5.2"
  }
 },
 "nbformat": 4,
 "nbformat_minor": 1
}
